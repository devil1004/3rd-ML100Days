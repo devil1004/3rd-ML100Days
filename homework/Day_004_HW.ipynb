{
 "cells": [
  {
   "cell_type": "markdown",
   "metadata": {},
   "source": [
    "## 練習時間\n",
    "資料的操作有很多，接下來的馬拉松中我們會介紹常被使用到的操作，參加者不妨先自行想像一下，第一次看到資料，我們一般會想知道什麼訊息？\n",
    "\n",
    "#### Ex: 如何知道資料的 row 數以及 column 數、有什麼欄位、多少欄位、如何截取部分的資料等等\n",
    "\n",
    "有了對資料的好奇之後，我們又怎麼通過程式碼來達成我們的目的呢？\n",
    "\n",
    "#### 可參考該[基礎教材](https://bookdata.readthedocs.io/en/latest/base/01_pandas.html#DataFrame-%E5%85%A5%E9%97%A8)或自行 google"
   ]
  },
  {
   "cell_type": "markdown",
   "metadata": {},
   "source": [
    "# [作業目標]\n",
    "- 熟悉更多的 Python 資料操作"
   ]
  },
  {
   "cell_type": "markdown",
   "metadata": {},
   "source": [
    "# [作業重點]\n",
    "- 列出資料的大小 (In[4], Hint : shape)\n",
    "- 列出所有欄位 (In[5], 有多種寫法)\n",
    "- 擷取部分資料 (In[6], Hint : loc 或 iloc)"
   ]
  },
  {
   "cell_type": "code",
   "execution_count": 1,
   "metadata": {},
   "outputs": [],
   "source": [
    "import os\n",
    "import numpy as np\n",
    "import pandas as pd"
   ]
  },
  {
   "cell_type": "code",
   "execution_count": 2,
   "metadata": {},
   "outputs": [],
   "source": [
    "# 設定 data_path\n",
    "dir_data = r'D:\\ML100DDays\\data'"
   ]
  },
  {
   "cell_type": "code",
   "execution_count": 3,
   "metadata": {},
   "outputs": [
    {
     "name": "stdout",
     "output_type": "stream",
     "text": [
      "Path of read in data: D:\\ML100DDays\\data\\application_train.csv\n"
     ]
    }
   ],
   "source": [
    "f_app = os.path.join(dir_data, 'application_train.csv')\n",
    "print('Path of read in data: %s' % (f_app))\n",
    "app_train = pd.read_csv(f_app)"
   ]
  },
  {
   "cell_type": "markdown",
   "metadata": {},
   "source": [
    "### 如果沒有想法，可以先嘗試找出剛剛例子中提到的問題的答案\n",
    "#### 資料的 row 數以及 column 數"
   ]
  },
  {
   "cell_type": "code",
   "execution_count": 4,
   "metadata": {},
   "outputs": [
    {
     "name": "stdout",
     "output_type": "stream",
     "text": [
      "資料的row:\t307511\n",
      "資料的column:\t122\n"
     ]
    }
   ],
   "source": [
    "rc = app_train.shape\n",
    "print('資料的row:\\t{}\\n資料的column:\\t{}'.format(rc[0],rc[1]))"
   ]
  },
  {
   "cell_type": "markdown",
   "metadata": {},
   "source": [
    "#### 列出所有欄位"
   ]
  },
  {
   "cell_type": "code",
   "execution_count": 5,
   "metadata": {},
   "outputs": [
    {
     "data": {
      "text/plain": [
       "Index(['SK_ID_CURR', 'TARGET', 'NAME_CONTRACT_TYPE', 'CODE_GENDER',\n",
       "       'FLAG_OWN_CAR', 'FLAG_OWN_REALTY', 'CNT_CHILDREN', 'AMT_INCOME_TOTAL',\n",
       "       'AMT_CREDIT', 'AMT_ANNUITY',\n",
       "       ...\n",
       "       'FLAG_DOCUMENT_18', 'FLAG_DOCUMENT_19', 'FLAG_DOCUMENT_20',\n",
       "       'FLAG_DOCUMENT_21', 'AMT_REQ_CREDIT_BUREAU_HOUR',\n",
       "       'AMT_REQ_CREDIT_BUREAU_DAY', 'AMT_REQ_CREDIT_BUREAU_WEEK',\n",
       "       'AMT_REQ_CREDIT_BUREAU_MON', 'AMT_REQ_CREDIT_BUREAU_QRT',\n",
       "       'AMT_REQ_CREDIT_BUREAU_YEAR'],\n",
       "      dtype='object', length=122)"
      ]
     },
     "execution_count": 5,
     "metadata": {},
     "output_type": "execute_result"
    }
   ],
   "source": [
    "app_train.columns\n"
   ]
  },
  {
   "cell_type": "markdown",
   "metadata": {},
   "source": [
    "#### 截取部分資料"
   ]
  },
  {
   "cell_type": "code",
   "execution_count": 6,
   "metadata": {},
   "outputs": [
    {
     "name": "stdout",
     "output_type": "stream",
     "text": [
      "取得第10筆至第20筆資料\n",
      "    SK_ID_CURR  TARGET NAME_CONTRACT_TYPE CODE_GENDER FLAG_OWN_CAR  \\\n",
      "9       100012       0    Revolving loans           M            N   \n",
      "10      100014       0         Cash loans           F            N   \n",
      "11      100015       0         Cash loans           F            N   \n",
      "12      100016       0         Cash loans           F            N   \n",
      "13      100017       0         Cash loans           M            Y   \n",
      "14      100018       0         Cash loans           F            N   \n",
      "15      100019       0         Cash loans           M            Y   \n",
      "16      100020       0         Cash loans           M            N   \n",
      "17      100021       0    Revolving loans           F            N   \n",
      "18      100022       0    Revolving loans           F            N   \n",
      "19      100023       0         Cash loans           F            N   \n",
      "\n",
      "   FLAG_OWN_REALTY  CNT_CHILDREN  AMT_INCOME_TOTAL  AMT_CREDIT  AMT_ANNUITY  \\\n",
      "9                Y             0        135000.000    405000.0      20250.0   \n",
      "10               Y             1        112500.000    652500.0      21177.0   \n",
      "11               Y             0         38419.155    148365.0      10678.5   \n",
      "12               Y             0         67500.000     80865.0       5881.5   \n",
      "13               N             1        225000.000    918468.0      28966.5   \n",
      "14               Y             0        189000.000    773680.5      32778.0   \n",
      "15               Y             0        157500.000    299772.0      20160.0   \n",
      "16               N             0        108000.000    509602.5      26149.5   \n",
      "17               Y             1         81000.000    270000.0      13500.0   \n",
      "18               Y             0        112500.000    157500.0       7875.0   \n",
      "19               Y             1         90000.000    544491.0      17563.5   \n",
      "\n",
      "    ...  FLAG_DOCUMENT_18 FLAG_DOCUMENT_19 FLAG_DOCUMENT_20 FLAG_DOCUMENT_21  \\\n",
      "9   ...                 0                0                0                0   \n",
      "10  ...                 0                0                0                0   \n",
      "11  ...                 0                0                0                0   \n",
      "12  ...                 0                0                0                0   \n",
      "13  ...                 0                0                0                0   \n",
      "14  ...                 0                0                0                0   \n",
      "15  ...                 0                0                0                0   \n",
      "16  ...                 0                0                0                0   \n",
      "17  ...                 0                0                0                0   \n",
      "18  ...                 0                0                0                0   \n",
      "19  ...                 0                0                0                0   \n",
      "\n",
      "   AMT_REQ_CREDIT_BUREAU_HOUR AMT_REQ_CREDIT_BUREAU_DAY  \\\n",
      "9                         NaN                       NaN   \n",
      "10                        0.0                       0.0   \n",
      "11                        0.0                       0.0   \n",
      "12                        0.0                       0.0   \n",
      "13                        0.0                       0.0   \n",
      "14                        NaN                       NaN   \n",
      "15                        0.0                       0.0   \n",
      "16                        0.0                       0.0   \n",
      "17                        NaN                       NaN   \n",
      "18                        0.0                       0.0   \n",
      "19                        0.0                       0.0   \n",
      "\n",
      "    AMT_REQ_CREDIT_BUREAU_WEEK  AMT_REQ_CREDIT_BUREAU_MON  \\\n",
      "9                          NaN                        NaN   \n",
      "10                         0.0                        1.0   \n",
      "11                         0.0                        0.0   \n",
      "12                         0.0                        1.0   \n",
      "13                         0.0                        0.0   \n",
      "14                         NaN                        NaN   \n",
      "15                         0.0                        0.0   \n",
      "16                         0.0                        0.0   \n",
      "17                         NaN                        NaN   \n",
      "18                         0.0                        0.0   \n",
      "19                         0.0                        0.0   \n",
      "\n",
      "    AMT_REQ_CREDIT_BUREAU_QRT  AMT_REQ_CREDIT_BUREAU_YEAR  \n",
      "9                         NaN                         NaN  \n",
      "10                        0.0                         0.0  \n",
      "11                        0.0                         2.0  \n",
      "12                        0.0                         0.0  \n",
      "13                        0.0                         1.0  \n",
      "14                        NaN                         NaN  \n",
      "15                        0.0                         1.0  \n",
      "16                        1.0                         0.0  \n",
      "17                        NaN                         NaN  \n",
      "18                        0.0                         0.0  \n",
      "19                        0.0                         2.0  \n",
      "\n",
      "[11 rows x 122 columns]\n",
      "\n",
      "取得第1欄至第5欄資料\n",
      "        SK_ID_CURR  TARGET NAME_CONTRACT_TYPE CODE_GENDER FLAG_OWN_CAR\n",
      "0           100002       1         Cash loans           M            N\n",
      "1           100003       0         Cash loans           F            N\n",
      "2           100004       0    Revolving loans           M            Y\n",
      "3           100006       0         Cash loans           F            N\n",
      "4           100007       0         Cash loans           M            N\n",
      "...            ...     ...                ...         ...          ...\n",
      "307506      456251       0         Cash loans           M            N\n",
      "307507      456252       0         Cash loans           F            N\n",
      "307508      456253       0         Cash loans           F            N\n",
      "307509      456254       1         Cash loans           F            N\n",
      "307510      456255       0         Cash loans           F            N\n",
      "\n",
      "[307511 rows x 5 columns]\n"
     ]
    }
   ],
   "source": [
    "print('取得第10筆至第20筆資料')\n",
    "print(app_train[9:20])\n",
    "print('\\n取得第1欄至第5欄資料')\n",
    "print(app_train.iloc[:,0:5])"
   ]
  },
  {
   "cell_type": "markdown",
   "metadata": {},
   "source": [
    "#### 還有各種數之不盡的資料操作，重點還是取決於實務中遇到的狀況和你想問的問題，在馬拉松中我們也會陸續提到更多例子"
   ]
  },
  {
   "cell_type": "code",
   "execution_count": null,
   "metadata": {},
   "outputs": [],
   "source": []
  }
 ],
 "metadata": {
  "kernelspec": {
   "display_name": "Python 3",
   "language": "python",
   "name": "python3"
  },
  "language_info": {
   "codemirror_mode": {
    "name": "ipython",
    "version": 3
   },
   "file_extension": ".py",
   "mimetype": "text/x-python",
   "name": "python",
   "nbconvert_exporter": "python",
   "pygments_lexer": "ipython3",
   "version": "3.7.4"
  }
 },
 "nbformat": 4,
 "nbformat_minor": 2
}
